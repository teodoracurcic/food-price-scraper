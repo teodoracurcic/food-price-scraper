{
 "cells": [
  {
   "cell_type": "code",
   "execution_count": 17,
   "id": "5657cb6c",
   "metadata": {},
   "outputs": [],
   "source": [
    "import os\n",
    "import random\n",
    "import time\n",
    "from datetime import datetime\n",
    "\n",
    "from playwright.async_api import async_playwright, expect, Keyboard\n",
    "\n",
    "import pandas as pd\n",
    "import numpy as np\n",
    "import openpyxl\n",
    "\n",
    "from tqdm import tqdm\n",
    "import asyncio\n",
    "import nest_asyncio\n",
    "\n",
    "nest_asyncio.apply()"
   ]
  },
  {
   "cell_type": "code",
   "execution_count": 18,
   "id": "2e7f1d54",
   "metadata": {},
   "outputs": [],
   "source": [
    "os.makedirs('data/', exist_ok=True)"
   ]
  },
  {
   "cell_type": "code",
   "execution_count": 19,
   "id": "1e2d26a4",
   "metadata": {},
   "outputs": [],
   "source": [
    "user_agent = 'Mozilla/5.0 (Linux; Android 15; V2417A Build/AP3A.240905.015.A2; wv) AppleWebKit/537.36 (KHTML, like Gecko) Version/4.0 Chrome/97.0.4692.98 Mobile Safari/537.36 T7/15.19 SP-engine/3.48.0 bd_dvt/0 baiduboxapp/15.22.0.10 (Baidu; P1 15) NABar/1.0'"
   ]
  },
  {
   "cell_type": "code",
   "execution_count": 28,
   "id": "94e3ed58",
   "metadata": {},
   "outputs": [],
   "source": [
    "async def open_browser(headless=True, user_agent=user_agent):\n",
    "    \"\"\"\n",
    "    Starts the automated browser and opens a new window\n",
    "    \"\"\"\n",
    "    playwright = await async_playwright().start()\n",
    "\n",
    "    browser = await playwright.firefox.launch(headless=headless)\n",
    "\n",
    "    context = await browser.new_context(user_agent=user_agent)\n",
    "  \n",
    "    page = await browser.new_page()\n",
    "\n",
    "    return browser, page"
   ]
  },
  {
   "cell_type": "code",
   "execution_count": 29,
   "id": "8a32a0d0",
   "metadata": {},
   "outputs": [],
   "source": [
    "driver, page = await open_browser()"
   ]
  },
  {
   "cell_type": "code",
   "execution_count": 30,
   "id": "d8baaa1b",
   "metadata": {},
   "outputs": [
    {
     "data": {
      "text/plain": [
       "<Response url='https://cenoteka.rs/' request=<Request url='https://cenoteka.rs/' method='GET'>>"
      ]
     },
     "execution_count": 30,
     "metadata": {},
     "output_type": "execute_result"
    }
   ],
   "source": [
    "url = 'https://cenoteka.rs/'\n",
    "await page.goto(url)"
   ]
  },
  {
   "cell_type": "code",
   "execution_count": 31,
   "id": "4491a5dd",
   "metadata": {},
   "outputs": [],
   "source": [
    "urls = {\n",
    "    #groceries\n",
    "    'brasno': 'https://cenoteka.rs/brasno/',\n",
    "    'jaja': 'https://cenoteka.rs/jaja/',\n",
    "    'pirinac': 'https://cenoteka.rs/pirinac/',\n",
    "    'secer': 'https://cenoteka.rs/secer/',\n",
    "    'testenine': 'https://cenoteka.rs/testenine/',\n",
    "    'ulje': 'https://cenoteka.rs/ulje/',\n",
    "    'pekara': 'https://cenoteka.rs/pekara/',\n",
    "\n",
    "    #dairy\n",
    "    'jogurt': 'https://cenoteka.rs/jogurt/',\n",
    "    'kiselo-mleko': 'https://cenoteka.rs/kiselo-mleko/',\n",
    "    'mleko': 'https://cenoteka.rs/mleko/',\n",
    "    'pavlaka': 'https://cenoteka.rs/pavlaka/',\n",
    "    'sirevi': 'https://cenoteka.rs/sirevi/',\n",
    "\n",
    "    #healthy food\n",
    "    'bezglutenski-proizvodi': 'https://cenoteka.rs/bezglutenski-proizvodi/',\n",
    "    'organski-proizvodi': 'https://cenoteka.rs/organski-proizvodi/',\n",
    "\n",
    "    #fruits and vegetables\n",
    "    'voce': 'https://cenoteka.rs/voce/',\n",
    "    'smrznuto-voce': 'https://cenoteka.rs/smrznuto-voce/',\n",
    "    'povrce': 'https://cenoteka.rs/povrce/',\n",
    "    'smrznuto-povrce': 'https://cenoteka.rs/smrznuto-povrce/',\n",
    "\n",
    "    #meat and fish\n",
    "    'sveze-meso': 'https://cenoteka.rs/sveze-meso/',\n",
    "    'sveza-riba': 'https://cenoteka.rs/sveza-riba/',\n",
    "    'kobasice': 'https://cenoteka.rs/kobasice/',\n",
    "    'slajs-pakovanja': 'https://cenoteka.rs/slajs-pakovanja/',\n",
    "    'pecenica-prsuta-slanina': 'https://cenoteka.rs/pecenica-prsuta-slanina/',\n",
    "    'smrznuta-riba-i-meso': 'https://cenoteka.rs/smrznuta-riba-i-meso/',\n",
    "    'cvarci': 'https://cenoteka.rs/cvarci/',\n",
    "\n",
    "    #drinks\n",
    "    \"cajevi\": \"https://cenoteka.rs/cajevi/\",\n",
    "    \"gazirani-sokovi\": \"https://cenoteka.rs/gazirani-sokovi/\",\n",
    "    \"kafa\": \"https://cenoteka.rs/kafa/\",\n",
    "    \"sokovi\": \"https://cenoteka.rs/sokovi/\",\n",
    "    \"voda\": \"https://cenoteka.rs/voda/\",\n",
    "\n",
    "    #candy\n",
    "    'sladoledi': 'https://cenoteka.rs/sladoledi/',\n",
    "    'bombone': 'https://cenoteka.rs/bombone/',\n",
    "    'cokolade': 'https://cenoteka.rs/cokolade/',\n",
    "    'cokoladice-i-stanglice': 'https://cenoteka.rs/cokoladice-i-stanglice/',\n",
    "\n",
    "    #hygiene and beauty\n",
    "    'sapun': 'https://cenoteka.rs/sapun/',\n",
    "    'paste-za-zube': 'https://cenoteka.rs/paste-za-zube/',\n",
    "    'tamponi-i-ulosci': 'https://cenoteka.rs/tamponi-i-ulosci/',\n",
    "    'toalet-papir': 'https://cenoteka.rs/toalet-papir/',\n",
    "\n",
    "    #cleaning supplies\n",
    "    \"praskasti-deterdzenti-za-ves\": \"https://cenoteka.rs/praskasti-deterdzenti-za-ves/\",\n",
    "    \"tecni-deterdzenti-za-ves\": \"https://cenoteka.rs/tecni-deterdzenti-za-ves/\",\n",
    "    \"deterdzent-za-posude\": \"https://cenoteka.rs/deterdzent-za-posude/\",\n",
    "    \"sredstva-za-ciscenje-domacinstva\": \"https://cenoteka.rs/sredstva-za-ciscenje-domacinstva/\",\n",
    "}"
   ]
  },
  {
   "cell_type": "code",
   "execution_count": 33,
   "id": "7ff3ab97",
   "metadata": {},
   "outputs": [
    {
     "ename": "TimeoutError",
     "evalue": "Page.goto: Timeout 30000ms exceeded.\nCall log:\n  - navigating to \"https://cenoteka.rs/brasno/\", waiting until \"load\"\n",
     "output_type": "error",
     "traceback": [
      "\u001b[31m---------------------------------------------------------------------------\u001b[39m",
      "\u001b[31mTimeoutError\u001b[39m                              Traceback (most recent call last)",
      "\u001b[36mCell\u001b[39m\u001b[36m \u001b[39m\u001b[32mIn[33]\u001b[39m\u001b[32m, line 4\u001b[39m\n\u001b[32m      1\u001b[39m all_data = []\n\u001b[32m      3\u001b[39m \u001b[38;5;28;01mfor\u001b[39;00m category, url \u001b[38;5;129;01min\u001b[39;00m urls.items():\n\u001b[32m----> \u001b[39m\u001b[32m4\u001b[39m     \u001b[38;5;28;01mawait\u001b[39;00m page.goto(url)\n\u001b[32m      5\u001b[39m     \u001b[38;5;28;01mawait\u001b[39;00m page.wait_for_selector(\u001b[33m'\u001b[39m\u001b[33mdiv.d-flex pb-2 px-1 col-md-4 col-lg-4 col-6\u001b[39m\u001b[33m'\u001b[39m)\n\u001b[32m      6\u001b[39m     data = []\n",
      "\u001b[36mFile \u001b[39m\u001b[32m~/.pyenv/versions/3.11.8/lib/python3.11/site-packages/playwright/async_api/_generated.py:8975\u001b[39m, in \u001b[36mPage.goto\u001b[39m\u001b[34m(self, url, timeout, wait_until, referer)\u001b[39m\n\u001b[32m   8914\u001b[39m \u001b[38;5;28;01masync\u001b[39;00m \u001b[38;5;28;01mdef\u001b[39;00m\u001b[38;5;250m \u001b[39m\u001b[34mgoto\u001b[39m(\n\u001b[32m   8915\u001b[39m     \u001b[38;5;28mself\u001b[39m,\n\u001b[32m   8916\u001b[39m     url: \u001b[38;5;28mstr\u001b[39m,\n\u001b[32m   (...)\u001b[39m\u001b[32m   8922\u001b[39m     referer: typing.Optional[\u001b[38;5;28mstr\u001b[39m] = \u001b[38;5;28;01mNone\u001b[39;00m,\n\u001b[32m   8923\u001b[39m ) -> typing.Optional[\u001b[33m\"\u001b[39m\u001b[33mResponse\u001b[39m\u001b[33m\"\u001b[39m]:\n\u001b[32m   8924\u001b[39m \u001b[38;5;250m    \u001b[39m\u001b[33;03m\"\"\"Page.goto\u001b[39;00m\n\u001b[32m   8925\u001b[39m \n\u001b[32m   8926\u001b[39m \u001b[33;03m    Returns the main resource response. In case of multiple redirects, the navigation will resolve with the first\u001b[39;00m\n\u001b[32m   (...)\u001b[39m\u001b[32m   8971\u001b[39m \u001b[33;03m    Union[Response, None]\u001b[39;00m\n\u001b[32m   8972\u001b[39m \u001b[33;03m    \"\"\"\u001b[39;00m\n\u001b[32m   8974\u001b[39m     \u001b[38;5;28;01mreturn\u001b[39;00m mapping.from_impl_nullable(\n\u001b[32m-> \u001b[39m\u001b[32m8975\u001b[39m         \u001b[38;5;28;01mawait\u001b[39;00m \u001b[38;5;28mself\u001b[39m._impl_obj.goto(\n\u001b[32m   8976\u001b[39m             url=url, timeout=timeout, waitUntil=wait_until, referer=referer\n\u001b[32m   8977\u001b[39m         )\n\u001b[32m   8978\u001b[39m     )\n",
      "\u001b[36mFile \u001b[39m\u001b[32m~/.pyenv/versions/3.11.8/lib/python3.11/site-packages/playwright/_impl/_page.py:556\u001b[39m, in \u001b[36mPage.goto\u001b[39m\u001b[34m(self, url, timeout, waitUntil, referer)\u001b[39m\n\u001b[32m    549\u001b[39m \u001b[38;5;28;01masync\u001b[39;00m \u001b[38;5;28;01mdef\u001b[39;00m\u001b[38;5;250m \u001b[39m\u001b[34mgoto\u001b[39m(\n\u001b[32m    550\u001b[39m     \u001b[38;5;28mself\u001b[39m,\n\u001b[32m    551\u001b[39m     url: \u001b[38;5;28mstr\u001b[39m,\n\u001b[32m   (...)\u001b[39m\u001b[32m    554\u001b[39m     referer: \u001b[38;5;28mstr\u001b[39m = \u001b[38;5;28;01mNone\u001b[39;00m,\n\u001b[32m    555\u001b[39m ) -> Optional[Response]:\n\u001b[32m--> \u001b[39m\u001b[32m556\u001b[39m     \u001b[38;5;28;01mreturn\u001b[39;00m \u001b[38;5;28;01mawait\u001b[39;00m \u001b[38;5;28mself\u001b[39m._main_frame.goto(**locals_to_params(\u001b[38;5;28mlocals\u001b[39m()))\n",
      "\u001b[36mFile \u001b[39m\u001b[32m~/.pyenv/versions/3.11.8/lib/python3.11/site-packages/playwright/_impl/_frame.py:146\u001b[39m, in \u001b[36mFrame.goto\u001b[39m\u001b[34m(self, url, timeout, waitUntil, referer)\u001b[39m\n\u001b[32m    136\u001b[39m \u001b[38;5;28;01masync\u001b[39;00m \u001b[38;5;28;01mdef\u001b[39;00m\u001b[38;5;250m \u001b[39m\u001b[34mgoto\u001b[39m(\n\u001b[32m    137\u001b[39m     \u001b[38;5;28mself\u001b[39m,\n\u001b[32m    138\u001b[39m     url: \u001b[38;5;28mstr\u001b[39m,\n\u001b[32m   (...)\u001b[39m\u001b[32m    141\u001b[39m     referer: \u001b[38;5;28mstr\u001b[39m = \u001b[38;5;28;01mNone\u001b[39;00m,\n\u001b[32m    142\u001b[39m ) -> Optional[Response]:\n\u001b[32m    143\u001b[39m     \u001b[38;5;28;01mreturn\u001b[39;00m cast(\n\u001b[32m    144\u001b[39m         Optional[Response],\n\u001b[32m    145\u001b[39m         from_nullable_channel(\n\u001b[32m--> \u001b[39m\u001b[32m146\u001b[39m             \u001b[38;5;28;01mawait\u001b[39;00m \u001b[38;5;28mself\u001b[39m._channel.send(\n\u001b[32m    147\u001b[39m                 \u001b[33m\"\u001b[39m\u001b[33mgoto\u001b[39m\u001b[33m\"\u001b[39m, \u001b[38;5;28mself\u001b[39m._navigation_timeout, locals_to_params(\u001b[38;5;28mlocals\u001b[39m())\n\u001b[32m    148\u001b[39m             )\n\u001b[32m    149\u001b[39m         ),\n\u001b[32m    150\u001b[39m     )\n",
      "\u001b[36mFile \u001b[39m\u001b[32m~/.pyenv/versions/3.11.8/lib/python3.11/site-packages/playwright/_impl/_connection.py:69\u001b[39m, in \u001b[36mChannel.send\u001b[39m\u001b[34m(self, method, timeout_calculator, params, is_internal, title)\u001b[39m\n\u001b[32m     61\u001b[39m \u001b[38;5;28;01masync\u001b[39;00m \u001b[38;5;28;01mdef\u001b[39;00m\u001b[38;5;250m \u001b[39m\u001b[34msend\u001b[39m(\n\u001b[32m     62\u001b[39m     \u001b[38;5;28mself\u001b[39m,\n\u001b[32m     63\u001b[39m     method: \u001b[38;5;28mstr\u001b[39m,\n\u001b[32m   (...)\u001b[39m\u001b[32m     67\u001b[39m     title: \u001b[38;5;28mstr\u001b[39m = \u001b[38;5;28;01mNone\u001b[39;00m,\n\u001b[32m     68\u001b[39m ) -> Any:\n\u001b[32m---> \u001b[39m\u001b[32m69\u001b[39m     \u001b[38;5;28;01mreturn\u001b[39;00m \u001b[38;5;28;01mawait\u001b[39;00m \u001b[38;5;28mself\u001b[39m._connection.wrap_api_call(\n\u001b[32m     70\u001b[39m         \u001b[38;5;28;01mlambda\u001b[39;00m: \u001b[38;5;28mself\u001b[39m._inner_send(method, timeout_calculator, params, \u001b[38;5;28;01mFalse\u001b[39;00m),\n\u001b[32m     71\u001b[39m         is_internal,\n\u001b[32m     72\u001b[39m         title,\n\u001b[32m     73\u001b[39m     )\n",
      "\u001b[36mFile \u001b[39m\u001b[32m~/.pyenv/versions/3.11.8/lib/python3.11/site-packages/playwright/_impl/_connection.py:558\u001b[39m, in \u001b[36mConnection.wrap_api_call\u001b[39m\u001b[34m(self, cb, is_internal, title)\u001b[39m\n\u001b[32m    556\u001b[39m     \u001b[38;5;28;01mreturn\u001b[39;00m \u001b[38;5;28;01mawait\u001b[39;00m cb()\n\u001b[32m    557\u001b[39m \u001b[38;5;28;01mexcept\u001b[39;00m \u001b[38;5;167;01mException\u001b[39;00m \u001b[38;5;28;01mas\u001b[39;00m error:\n\u001b[32m--> \u001b[39m\u001b[32m558\u001b[39m     \u001b[38;5;28;01mraise\u001b[39;00m rewrite_error(error, \u001b[33mf\u001b[39m\u001b[33m\"\u001b[39m\u001b[38;5;132;01m{\u001b[39;00mparsed_st[\u001b[33m'\u001b[39m\u001b[33mapiName\u001b[39m\u001b[33m'\u001b[39m]\u001b[38;5;132;01m}\u001b[39;00m\u001b[33m: \u001b[39m\u001b[38;5;132;01m{\u001b[39;00merror\u001b[38;5;132;01m}\u001b[39;00m\u001b[33m\"\u001b[39m) \u001b[38;5;28;01mfrom\u001b[39;00m\u001b[38;5;250m \u001b[39m\u001b[38;5;28;01mNone\u001b[39;00m\n\u001b[32m    559\u001b[39m \u001b[38;5;28;01mfinally\u001b[39;00m:\n\u001b[32m    560\u001b[39m     \u001b[38;5;28mself\u001b[39m._api_zone.set(\u001b[38;5;28;01mNone\u001b[39;00m)\n",
      "\u001b[31mTimeoutError\u001b[39m: Page.goto: Timeout 30000ms exceeded.\nCall log:\n  - navigating to \"https://cenoteka.rs/brasno/\", waiting until \"load\"\n"
     ]
    }
   ],
   "source": [
    "all_data = []\n",
    "\n",
    "for category, url in urls.items():\n",
    "    await page.goto(url)\n",
    "    await page.wait_for_selector('div.d-flex pb-2 px-1 col-md-4 col-lg-4 col-6')\n",
    "    data = []\n",
    "\n",
    "    while True:\n",
    "        product_tiles = await page.locator('div.d-flex pb-2 px-1 col-md-4 col-lg-4 col-6').all()\n",
    "\n",
    "        for product in product_tiles:\n",
    "            try:\n",
    "                name_el = product.locator('div.product_info a')\n",
    "                if await name_el.is_visible():\n",
    "                    name = await name_el.text_content()\n",
    "                else:\n",
    "                    continue\n",
    "\n",
    "                try:\n",
    "                    discount_el = product.locator('div.product_savings span')\n",
    "                    discount = await discount_el.text_content()\n",
    "                except:\n",
    "                    discount = None\n",
    "\n",
    "                price_rows = await product.locator('div.product_info_wrap div.row').all()\n",
    "\n",
    "                for row in price_rows:\n",
    "                    try:\n",
    "                        brand = await row.locator('div.col-5 img').get_attribute('alt')\n",
    "                        price = await row.locator('div.col-7').text_content()\n",
    "\n",
    "                        row_data = {\n",
    "                            'brand': brand,\n",
    "                            'price': price.strip(),\n",
    "                            'product_name': name.strip(),\n",
    "                            'discount': discount,\n",
    "                            'timestamp': datetime.now().isoformat(sep=' ', timespec='seconds'),\n",
    "                            'category': category\n",
    "                        }\n",
    "\n",
    "                        data.append(row_data)\n",
    "                    except:\n",
    "                        continue\n",
    "\n",
    "            except:\n",
    "                continue\n",
    "\n",
    "        await page.wait_for_timeout(1000)\n",
    "        next_btn = page.locator('a.page-link.next')\n",
    "\n",
    "        if await next_btn.is_visible():\n",
    "            next_url = await next_btn.get_attribute('href')\n",
    "            if next_url:\n",
    "                await page.goto(next_url)\n",
    "            else:\n",
    "                break\n",
    "        else:\n",
    "            break\n",
    "\n",
    "    all_data.extend(data)"
   ]
  },
  {
   "cell_type": "code",
   "execution_count": null,
   "id": "160beea2",
   "metadata": {},
   "outputs": [],
   "source": [
    "prices = pd.DataFrame(all_data)\n",
    "prices.head()"
   ]
  },
  {
   "cell_type": "code",
   "execution_count": null,
   "id": "eb362cb0",
   "metadata": {},
   "outputs": [],
   "source": [
    "prices.shape"
   ]
  },
  {
   "cell_type": "code",
   "execution_count": null,
   "id": "855de400",
   "metadata": {},
   "outputs": [],
   "source": [
    "timestamp = datetime.now().strftime('%Y-%m-%d_%H-%M-%S')\n",
    "filename = f\"data/baby_prices_{timestamp}.csv\"\n",
    "prices.to_csv(filename, index=False)"
   ]
  }
 ],
 "metadata": {
  "kernelspec": {
   "display_name": "3.11.8",
   "language": "python",
   "name": "python3"
  },
  "language_info": {
   "codemirror_mode": {
    "name": "ipython",
    "version": 3
   },
   "file_extension": ".py",
   "mimetype": "text/x-python",
   "name": "python",
   "nbconvert_exporter": "python",
   "pygments_lexer": "ipython3",
   "version": "3.11.8"
  }
 },
 "nbformat": 4,
 "nbformat_minor": 5
}
