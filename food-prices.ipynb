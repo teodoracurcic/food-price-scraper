{
 "cells": [
  {
   "cell_type": "code",
   "execution_count": 1,
   "id": "5657cb6c",
   "metadata": {},
   "outputs": [],
   "source": [
    "import os\n",
    "import random\n",
    "import time\n",
    "from datetime import datetime\n",
    "\n",
    "from playwright.async_api import async_playwright, expect, Keyboard\n",
    "\n",
    "import pandas as pd\n",
    "import numpy as np\n",
    "import openpyxl\n",
    "\n",
    "from tqdm import tqdm\n",
    "import asyncio\n",
    "import nest_asyncio\n",
    "\n",
    "nest_asyncio.apply()"
   ]
  },
  {
   "cell_type": "code",
   "execution_count": 2,
   "id": "2e7f1d54",
   "metadata": {},
   "outputs": [],
   "source": [
    "os.makedirs('data/', exist_ok=True)"
   ]
  },
  {
   "cell_type": "code",
   "execution_count": 3,
   "id": "1e2d26a4",
   "metadata": {},
   "outputs": [],
   "source": [
    "user_agent = 'Mozilla/5.0 (Macintosh; Intel Mac OS X 10_15_7) AppleWebKit/537.36 (KHTML, like Gecko) Chrome/138.0.0.0 Safari/537.36'"
   ]
  },
  {
   "cell_type": "code",
   "execution_count": 4,
   "id": "94e3ed58",
   "metadata": {},
   "outputs": [],
   "source": [
    "async def open_browser(headless=True, user_agent=user_agent):\n",
    "    \"\"\"\n",
    "    Starts the automated browser and opens a new window\n",
    "    \"\"\"\n",
    "    playwright = await async_playwright().start()\n",
    "\n",
    "    browser = await playwright.chromium.launch(headless=headless)\n",
    "\n",
    "    context = await browser.new_context(user_agent=user_agent)\n",
    "  \n",
    "    page = await browser.new_page()\n",
    "\n",
    "    return browser, page"
   ]
  },
  {
   "cell_type": "code",
   "execution_count": 5,
   "id": "8a32a0d0",
   "metadata": {},
   "outputs": [],
   "source": [
    "driver, page = await open_browser()"
   ]
  },
  {
   "cell_type": "code",
   "execution_count": 6,
   "id": "d8baaa1b",
   "metadata": {},
   "outputs": [
    {
     "data": {
      "text/plain": [
       "<Response url='https://cenoteka.rs/' request=<Request url='https://cenoteka.rs/' method='GET'>>"
      ]
     },
     "execution_count": 6,
     "metadata": {},
     "output_type": "execute_result"
    }
   ],
   "source": [
    "url = 'https://cenoteka.rs/'\n",
    "await page.goto(url)"
   ]
  },
  {
   "cell_type": "code",
   "execution_count": 7,
   "id": "4491a5dd",
   "metadata": {},
   "outputs": [],
   "source": [
    "urls = {\n",
    "    #groceries\n",
    "    'brasno': 'https://cenoteka.rs/brasno/',\n",
    "    'jaja': 'https://cenoteka.rs/jaja/',\n",
    "    'pirinac': 'https://cenoteka.rs/pirinac/',\n",
    "    'secer': 'https://cenoteka.rs/secer/',\n",
    "    'testenine': 'https://cenoteka.rs/testenine/',\n",
    "    'ulje': 'https://cenoteka.rs/ulje/',\n",
    "    'pekara': 'https://cenoteka.rs/pekara/',\n",
    "\n",
    "    #dairy\n",
    "    'jogurt': 'https://cenoteka.rs/jogurt/',\n",
    "    'kiselo-mleko': 'https://cenoteka.rs/kiselo-mleko/',\n",
    "    'mleko': 'https://cenoteka.rs/mleko/',\n",
    "    'pavlaka': 'https://cenoteka.rs/pavlaka/',\n",
    "    'sirevi': 'https://cenoteka.rs/sirevi/',\n",
    "\n",
    "    #healthy food\n",
    "    'bezglutenski-proizvodi': 'https://cenoteka.rs/bezglutenski-proizvodi/',\n",
    "    'organski-proizvodi': 'https://cenoteka.rs/organski-proizvodi/',\n",
    "\n",
    "    #fruits and vegetables\n",
    "    'voce': 'https://cenoteka.rs/voce/',\n",
    "    'smrznuto-voce': 'https://cenoteka.rs/smrznuto-voce/',\n",
    "    'povrce': 'https://cenoteka.rs/povrce/',\n",
    "    'smrznuto-povrce': 'https://cenoteka.rs/smrznuto-povrce/',\n",
    "\n",
    "    #meat and fish\n",
    "    'sveze-meso': 'https://cenoteka.rs/sveze-meso/',\n",
    "    'sveza-riba': 'https://cenoteka.rs/sveza-riba/',\n",
    "    'kobasice': 'https://cenoteka.rs/kobasice/',\n",
    "    'slajs-pakovanja': 'https://cenoteka.rs/slajs-pakovanja/',\n",
    "    'pecenica-prsuta-slanina': 'https://cenoteka.rs/pecenica-prsuta-slanina/',\n",
    "    'smrznuta-riba-i-meso': 'https://cenoteka.rs/smrznuta-riba-i-meso/',\n",
    "    'cvarci': 'https://cenoteka.rs/cvarci/',\n",
    "\n",
    "    #drinks\n",
    "    \"cajevi\": \"https://cenoteka.rs/cajevi/\",\n",
    "    \"gazirani-sokovi\": \"https://cenoteka.rs/gazirani-sokovi/\",\n",
    "    \"kafa\": \"https://cenoteka.rs/kafa/\",\n",
    "    \"sokovi\": \"https://cenoteka.rs/sokovi/\",\n",
    "    \"voda\": \"https://cenoteka.rs/voda/\",\n",
    "\n",
    "    #candy\n",
    "    'sladoledi': 'https://cenoteka.rs/sladoledi/',\n",
    "    'bombone': 'https://cenoteka.rs/bombone/',\n",
    "    'cokolade': 'https://cenoteka.rs/cokolade/',\n",
    "    'cokoladice-i-stanglice': 'https://cenoteka.rs/cokoladice-i-stanglice/',\n",
    "\n",
    "    #hygiene and beauty\n",
    "    'sapun': 'https://cenoteka.rs/sapun/',\n",
    "    'paste-za-zube': 'https://cenoteka.rs/paste-za-zube/',\n",
    "    'tamponi-i-ulosci': 'https://cenoteka.rs/tamponi-i-ulosci/',\n",
    "    'toalet-papir': 'https://cenoteka.rs/toalet-papir/',\n",
    "\n",
    "    #cleaning supplies\n",
    "    \"praskasti-deterdzenti-za-ves\": \"https://cenoteka.rs/praskasti-deterdzenti-za-ves/\",\n",
    "    \"tecni-deterdzenti-za-ves\": \"https://cenoteka.rs/tecni-deterdzenti-za-ves/\",\n",
    "    \"deterdzent-za-posude\": \"https://cenoteka.rs/deterdzent-za-posude/\",\n",
    "    \"sredstva-za-ciscenje-domacinstva\": \"https://cenoteka.rs/sredstva-za-ciscenje-domacinstva/\",\n",
    "}"
   ]
  },
  {
   "cell_type": "code",
   "execution_count": null,
   "id": "7ff3ab97",
   "metadata": {},
   "outputs": [],
   "source": [
    "all_data = []\n",
    "\n",
    "for category, url in urls.items():\n",
    "    await page.goto(url)\n",
    "    await page.wait_for_selector('d-flex pb-2 px-1 col-md-4 col-lg-4 col-6')\n",
    "    data = []\n",
    "\n",
    "    while True:\n",
    "        product_tiles = await page.locator('d-flex pb-2 px-1 col-md-4 col-lg-4 col-6').all()\n",
    "\n",
    "        for product in product_tiles:\n",
    "            try:\n",
    "                name_el = product.locator('div.product_info a')\n",
    "                if await name_el.is_visible():\n",
    "                    name = await name_el.text_content()\n",
    "                else:\n",
    "                    continue\n",
    "\n",
    "                try:\n",
    "                    discount_el = product.locator('div.product_savings span')\n",
    "                    discount = await discount_el.text_content()\n",
    "                except:\n",
    "                    discount = None\n",
    "\n",
    "                price_rows = await product.locator('div.product_info_wrap div.row').all()\n",
    "\n",
    "                for row in price_rows:\n",
    "                    try:\n",
    "                        brand = await row.locator('div.col-5 img').get_attribute('alt')\n",
    "                        price = await row.locator('div.col-7').text_content()\n",
    "\n",
    "                        row_data = {\n",
    "                            'brand': brand,\n",
    "                            'price': price.strip(),\n",
    "                            'product_name': name.strip(),\n",
    "                            'discount': discount,\n",
    "                            'timestamp': datetime.now().isoformat(sep=' ', timespec='seconds'),\n",
    "                            'category': category\n",
    "                        }\n",
    "\n",
    "                        data.append(row_data)\n",
    "                    except:\n",
    "                        continue\n",
    "\n",
    "            except:\n",
    "                continue\n",
    "\n",
    "        await page.wait_for_timeout(1000)\n",
    "        next_btn = page.locator('a.page-link.next')\n",
    "\n",
    "        if await next_btn.is_visible():\n",
    "            next_url = await next_btn.get_attribute('href')\n",
    "            if next_url:\n",
    "                await page.goto(next_url)\n",
    "            else:\n",
    "                break\n",
    "        else:\n",
    "            break\n",
    "\n",
    "    all_data.extend(data)"
   ]
  },
  {
   "cell_type": "code",
   "execution_count": null,
   "id": "160beea2",
   "metadata": {},
   "outputs": [],
   "source": [
    "prices = pd.DataFrame(all_data)\n",
    "prices.head()"
   ]
  },
  {
   "cell_type": "code",
   "execution_count": null,
   "id": "eb362cb0",
   "metadata": {},
   "outputs": [],
   "source": [
    "prices.shape"
   ]
  },
  {
   "cell_type": "code",
   "execution_count": null,
   "id": "855de400",
   "metadata": {},
   "outputs": [],
   "source": [
    "timestamp = datetime.now().strftime('%Y-%m-%d_%H-%M-%S')\n",
    "filename = f\"data/baby_prices_{timestamp}.csv\"\n",
    "prices.to_csv(filename, index=False)"
   ]
  }
 ],
 "metadata": {
  "kernelspec": {
   "display_name": "3.11.8",
   "language": "python",
   "name": "python3"
  },
  "language_info": {
   "codemirror_mode": {
    "name": "ipython",
    "version": 3
   },
   "file_extension": ".py",
   "mimetype": "text/x-python",
   "name": "python",
   "nbconvert_exporter": "python",
   "pygments_lexer": "ipython3",
   "version": "3.11.8"
  }
 },
 "nbformat": 4,
 "nbformat_minor": 5
}
